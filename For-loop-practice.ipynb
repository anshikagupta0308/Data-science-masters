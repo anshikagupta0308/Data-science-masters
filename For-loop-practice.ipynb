{
 "cells": [
  {
   "cell_type": "markdown",
   "id": "962e359f",
   "metadata": {},
   "source": [
    "# Loop Questions"
   ]
  },
  {
   "cell_type": "markdown",
   "id": "d551fbbe",
   "metadata": {},
   "source": [
    "# Q1 Explain with an example each when to use a for loop and a while loop.\n",
    "For loop is used when the number of iterations is already known.\n",
    "While loop is used when the number of iterations is already Unknown."
   ]
  },
  {
   "cell_type": "code",
   "execution_count": 2,
   "id": "0b9cc0a8",
   "metadata": {},
   "outputs": [
    {
     "name": "stdout",
     "output_type": "stream",
     "text": [
      "sum of 10 natural number is - 55\n",
      "product of 10 natural number is - 3628800\n"
     ]
    }
   ],
   "source": [
    "# Q2. Write a python program to print the sum and product of the first 10 natural numbers using for and while loop.\n",
    "s=0\n",
    "p=1\n",
    "for i in range (1,11):\n",
    "    s=s+i\n",
    "    p=p*i\n",
    "print(\"sum of 10 natural number uisng for loop is -\",s)\n",
    "print(\"product of 10 natural number uisng for loop is -\",p)"
   ]
  },
  {
   "cell_type": "code",
   "execution_count": 2,
   "id": "562f044b",
   "metadata": {},
   "outputs": [
    {
     "name": "stdout",
     "output_type": "stream",
     "text": [
      "sum of 10 natural number uisng while loop is - 55\n",
      "product of 10 natural number uisng while loop is - 3628800\n"
     ]
    }
   ],
   "source": [
    "s=0\n",
    "p=1\n",
    "i=1\n",
    "while (i<=10):\n",
    "    s=s+i\n",
    "    p=p*i\n",
    "    i=i+1\n",
    "print(\"sum of 10 natural number uisng while loop is -\",s)\n",
    "print(\"product of 10 natural number uisng while loop is -\",p)"
   ]
  },
  {
   "cell_type": "markdown",
   "id": "0d35843d",
   "metadata": {},
   "source": [
    "Q3. Create a python program to compute the electricity bill for a household.\n",
    "\n",
    "The per-unit charges in rupees are as follows: For the first 100 units, the user will be charged Rs. 4.5 per\n",
    "unit, for the next 100 units, the user will be charged Rs. 6 per unit, and for the next 100 units, the user will\n",
    "be charged Rs. 10 per unit, After 300 units and above the user will be charged Rs. 20 per unit.\n",
    "You are required to take the units of electricity consumed in a month from the user as input.\n",
    "Your program must pass this test case: when the unit of electricity consumed by the user in a month is\n",
    "310, the total electricity bill should be 2250.`"
   ]
  },
  {
   "cell_type": "code",
   "execution_count": 9,
   "id": "601f8bde",
   "metadata": {},
   "outputs": [
    {
     "name": "stdout",
     "output_type": "stream",
     "text": [
      "Enter units of electricity bill:310\n",
      "Price of elctricity bill:  2250.0\n"
     ]
    }
   ],
   "source": [
    "n=int(input(\"Enter units of electricity bill:\"))\n",
    "c=0\n",
    "if(n>300):\n",
    "    c=c+(n-300)*20\n",
    "    n=300\n",
    "if(n>200 or n<=300):\n",
    "    c=c+(n-200)*10\n",
    "    n=200\n",
    "if(n>100 or n<=200):\n",
    "    c=c+(n-100)*6\n",
    "    n=100\n",
    "if(n>0 or n<=100):\n",
    "    c=c+(n)*4.5\n",
    "print(\"Price of elctricity bill: \",c)"
   ]
  },
  {
   "cell_type": "code",
   "execution_count": 16,
   "id": "437f70e3",
   "metadata": {},
   "outputs": [
    {
     "name": "stdout",
     "output_type": "stream",
     "text": [
      "[1, 2, 3, 4, 5, 6, 7, 8, 9, 10, 11, 12, 13, 14, 15, 16, 17, 18, 19, 20, 21, 22, 23, 24, 25, 26, 27, 28, 29, 30, 31, 32, 33, 34, 35, 36, 37, 38, 39, 40, 41, 42, 43, 44, 45, 46, 47, 48, 49, 50, 51, 52, 53, 54, 55, 56, 57, 58, 59, 60, 61, 62, 63, 64, 65, 66, 67, 68, 69, 70, 71, 72, 73, 74, 75, 76, 77, 78, 79, 80, 81, 82, 83, 84, 85, 86, 87, 88, 89, 90, 91, 92, 93, 94, 95, 96, 97, 98, 99, 100]\n",
      "----------------\n",
      "[2, 4, 5, 6, 8, 10, 12, 14, 15, 16, 18, 20, 22, 24, 25, 26, 28, 30, 32, 34, 35, 36, 38, 40, 42, 44, 45, 46, 48, 50, 52, 54, 55, 56, 58, 60, 62, 64, 65, 66, 68, 70, 72, 74, 75, 76, 78, 80, 82, 84, 85, 86, 88, 90, 92, 94, 95, 96, 98, 100]\n"
     ]
    }
   ],
   "source": [
    "# Q4. Create a list of numbers from 1 to 100. Use for loop and while loop to calculate the cube of each\n",
    "# number and if the cube of that number is divisible by 4 or 5 then append that number in a list and print\n",
    "# that list.\n",
    "ls=[]\n",
    "l=[]\n",
    "nl=[]\n",
    "for i in range(1,101):\n",
    "    ls.append(i)\n",
    "    l.append(i*i*i)\n",
    "    if(l[i-1]%4 ==0 or l[i-1]%5==0):\n",
    "        nl.append(i)\n",
    "print(ls)\n",
    "print(\"----------------\")\n",
    "print(nl)"
   ]
  },
  {
   "cell_type": "code",
   "execution_count": 7,
   "id": "89426ba9",
   "metadata": {},
   "outputs": [
    {
     "name": "stdout",
     "output_type": "stream",
     "text": [
      "12\n"
     ]
    }
   ],
   "source": [
    "# Q5. Write a program to filter count vowels in the below-given string.\n",
    "string = \"I want to become a data scientist\"\n",
    "l=['a','e','i','o','u','A','E','I','O','U']\n",
    "c=0\n",
    "for i in string:\n",
    "    if i in l:\n",
    "        c=c+1\n",
    "print(c)"
   ]
  },
  {
   "cell_type": "code",
   "execution_count": null,
   "id": "bdea172c",
   "metadata": {},
   "outputs": [],
   "source": []
  }
 ],
 "metadata": {
  "kernelspec": {
   "display_name": "Python 3 (ipykernel)",
   "language": "python",
   "name": "python3"
  },
  "language_info": {
   "codemirror_mode": {
    "name": "ipython",
    "version": 3
   },
   "file_extension": ".py",
   "mimetype": "text/x-python",
   "name": "python",
   "nbconvert_exporter": "python",
   "pygments_lexer": "ipython3",
   "version": "3.8.10"
  }
 },
 "nbformat": 4,
 "nbformat_minor": 5
}
